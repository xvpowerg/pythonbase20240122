{
 "cells": [
  {
   "cell_type": "markdown",
   "id": "58a8ba43",
   "metadata": {},
   "source": [
    "## 這是輸出20"
   ]
  },
  {
   "cell_type": "code",
   "execution_count": 14,
   "id": "47461083",
   "metadata": {},
   "outputs": [
    {
     "name": "stdout",
     "output_type": "stream",
     "text": [
      "20\n"
     ]
    }
   ],
   "source": [
    "print(20)"
   ]
  },
  {
   "cell_type": "markdown",
   "id": "33129951",
   "metadata": {},
   "source": [
    "## 變數"
   ]
  },
  {
   "cell_type": "code",
   "execution_count": 16,
   "id": "3b9b1c17",
   "metadata": {},
   "outputs": [
    {
     "name": "stdout",
     "output_type": "stream",
     "text": [
      "1.25\n",
      "18\n",
      "Ken\n"
     ]
    }
   ],
   "source": [
    "x = 1.25\n",
    "y = 18\n",
    "c = \"Ken\"\n",
    "print(x)\n",
    "print(y)\n",
    "print(c)"
   ]
  },
  {
   "attachments": {
    "image-2.png": {
     "image/png": "[encoded data removed]"
    }
   },
   "cell_type": "markdown",
   "id": "137f3bd3",
   "metadata": {},
   "source": [
    "## 變數限制\n",
    "\n",
    "開頭第一個字不能是數字。\n",
    "\n",
    "可使用大小寫字母或「_」。\n",
    "\n",
    "不可與內建保留字 (右邊表格所列) 同名。\n",
    "\n",
    "Python 3 可以使用中文名稱。\n",
    "\n",
    "大小寫視為不同的變數。\n",
    "\n",
    "不可以出現特殊字元或空白。\n",
    "\n",
    "![image-2.png](attachment:image-2.png)\n"
   ]
  },
  {
   "cell_type": "code",
   "execution_count": 23,
   "id": "ed515ac8",
   "metadata": {},
   "outputs": [
    {
     "name": "stdout",
     "output_type": "stream",
     "text": [
      "10 98.5 35 77\n"
     ]
    }
   ],
   "source": [
    "v1 = 10\n",
    "_Score = 98.5\n",
    "姓名 = \"Lucy\"\n",
    "v2 = 35\n",
    "V2 = 77\n",
    "print(v1,_Score,v2,V2)"
   ]
  },
  {
   "cell_type": "markdown",
   "id": "892310ed",
   "metadata": {},
   "source": [
    "## type語法"
   ]
  },
  {
   "cell_type": "code",
   "execution_count": 35,
   "id": "c6c6675a",
   "metadata": {},
   "outputs": [
    {
     "name": "stdout",
     "output_type": "stream",
     "text": [
      "16\n",
      "17.2\n",
      "Joy\n",
      "True\n"
     ]
    }
   ],
   "source": [
    "v3 = 16 #整數\n",
    "print(v3)\n",
    "v3 = 17.2 #浮點數\n",
    "print(v3)\n",
    "v3 = \"Joy\" #字串\n",
    "print(v3)\n",
    "v3 = True #布林\n",
    "print(v3)"
   ]
  },
  {
   "cell_type": "code",
   "execution_count": 39,
   "id": "3f06af45",
   "metadata": {},
   "outputs": [
    {
     "name": "stdout",
     "output_type": "stream",
     "text": [
      "<class 'bool'>\n"
     ]
    }
   ],
   "source": [
    "print(type(v3))"
   ]
  },
  {
   "cell_type": "code",
   "execution_count": 53,
   "id": "b03b93c2",
   "metadata": {},
   "outputs": [
    {
     "name": "stdout",
     "output_type": "stream",
     "text": [
      "140732495991720\n",
      "140732495992200\n",
      "2228828786608\n",
      "2228828786608\n",
      "140732495991720\n",
      "140732495991720\n"
     ]
    }
   ],
   "source": [
    "a = 5\n",
    "print(id(a))\n",
    "a = 20\n",
    "print(id(a))\n",
    "a = \"test\"\n",
    "print(id(a))\n",
    "a = \"test\"\n",
    "print(id(a))\n",
    "\n",
    "a = 5\n",
    "print(id(a))\n",
    "b = 5\n",
    "print(id(b))"
   ]
  },
  {
   "cell_type": "markdown",
   "id": "d1021104",
   "metadata": {},
   "source": [
    "## 串接(+)\n",
    "\n",
    "str(75.3) 把數字變文字才可跟文字串接"
   ]
  },
  {
   "cell_type": "code",
   "execution_count": 59,
   "id": "43f0fb73",
   "metadata": {},
   "outputs": [
    {
     "name": "stdout",
     "output_type": "stream",
     "text": [
      "身高: 172\n",
      "體重:75.3\n"
     ]
    }
   ],
   "source": [
    "print(\"身高:\",172)\n",
    "msg =  \"體重:\"+str(75.3)#數字變成文字\n",
    "print(msg)"
   ]
  },
  {
   "cell_type": "code",
   "execution_count": 64,
   "id": "6c12d345",
   "metadata": {},
   "outputs": [
    {
     "name": "stdout",
     "output_type": "stream",
     "text": [
      "姓名:Ken\n"
     ]
    }
   ],
   "source": [
    "print(\"姓名:\",\"Ken\",sep=\"\")"
   ]
  },
  {
   "cell_type": "markdown",
   "id": "f56de6d0",
   "metadata": {},
   "source": [
    "## 一次選告多個變數"
   ]
  },
  {
   "cell_type": "code",
   "execution_count": 70,
   "id": "21397f3e",
   "metadata": {},
   "outputs": [
    {
     "name": "stdout",
     "output_type": "stream",
     "text": [
      "2 5\n"
     ]
    }
   ],
   "source": [
    "x,y = 2,5\n",
    "print(x,y)"
   ]
  },
  {
   "cell_type": "code",
   "execution_count": 74,
   "id": "f04314a8",
   "metadata": {},
   "outputs": [
    {
     "name": "stdout",
     "output_type": "stream",
     "text": [
      "20 20 20\n"
     ]
    }
   ],
   "source": [
    "a=b=c=20\n",
    "print(a,b,c)"
   ]
  },
  {
   "cell_type": "code",
   "execution_count": 81,
   "id": "2c113756",
   "metadata": {},
   "outputs": [
    {
     "name": "stdout",
     "output_type": "stream",
     "text": [
      "15\n",
      "Hi Hi Hi \n"
     ]
    }
   ],
   "source": [
    "v4 = 5 * 3\n",
    "print(v4)\n",
    "str1 = \"Hi \"*3\n",
    "print(str1)"
   ]
  },
  {
   "cell_type": "code",
   "execution_count": 84,
   "id": "c52aa5ba",
   "metadata": {},
   "outputs": [
    {
     "name": "stdout",
     "output_type": "stream",
     "text": [
      "8\n"
     ]
    }
   ],
   "source": [
    "v5 = 2**3 #2的3次方\n",
    "print(v5)"
   ]
  },
  {
   "cell_type": "markdown",
   "id": "482f1ee8",
   "metadata": {},
   "source": [
    "## 四則運算"
   ]
  },
  {
   "cell_type": "code",
   "execution_count": 98,
   "id": "0315da68",
   "metadata": {},
   "outputs": [
    {
     "name": "stdout",
     "output_type": "stream",
     "text": [
      "8\n",
      "16\n",
      "9\n",
      "2.0\n",
      "2.5\n",
      "1.6666666666666667\n",
      "2\n",
      "2\n",
      "1.67\n",
      "1\n",
      "2\n"
     ]
    }
   ],
   "source": [
    "a,b,c = 4,2,5\n",
    "print(a *ｂ)\n",
    "print(a ** b)\n",
    "print(a + c)\n",
    "print(a / b)\n",
    "print(c / b)\n",
    "print(c / 3)\n",
    "\n",
    "print(a // b)#無小數點\n",
    "print(c // b)\n",
    "r = c / 3\n",
    "print(round(r,2))#取小數點第二位\n",
    "\n",
    "print(7 // 5)#求商數\n",
    "print(7 % 5)#求餘數"
   ]
  },
  {
   "cell_type": "markdown",
   "id": "4d519a32",
   "metadata": {},
   "source": [
    "## 累加 累減等等運算"
   ]
  },
  {
   "cell_type": "code",
   "execution_count": 5,
   "id": "4755135b",
   "metadata": {},
   "outputs": [
    {
     "name": "stdout",
     "output_type": "stream",
     "text": [
      "coin: 2\n",
      "coin: 3\n",
      "coin: 1\n"
     ]
    }
   ],
   "source": [
    "coin = 0\n",
    "coin += 2\n",
    "print(\"coin:\",coin)\n",
    "coin += 1\n",
    "print(\"coin:\",coin)\n",
    "coin -= 2\n",
    "print(\"coin:\",coin)"
   ]
  },
  {
   "cell_type": "markdown",
   "id": "a858b270",
   "metadata": {},
   "source": [
    "## 比較運算"
   ]
  },
  {
   "cell_type": "code",
   "execution_count": 11,
   "id": "c829cb28",
   "metadata": {},
   "outputs": [
    {
     "name": "stdout",
     "output_type": "stream",
     "text": [
      "True\n",
      "False\n",
      "False\n",
      "True\n"
     ]
    }
   ],
   "source": [
    "print(3 < 5)#小於\n",
    "print(6 <= 5)#小於等於\n",
    "\n",
    "print(6 > 6)#大於\n",
    "print(6 >= 6)#大於等於"
   ]
  },
  {
   "cell_type": "code",
   "execution_count": 13,
   "id": "b431c32b",
   "metadata": {},
   "outputs": [
    {
     "name": "stdout",
     "output_type": "stream",
     "text": [
      "False\n",
      "True\n",
      "True\n"
     ]
    }
   ],
   "source": [
    "x1,x2,x3 = 10,20,10\n",
    "print(x1 == x2)#是否相等\n",
    "print(x1 == x3)\n",
    "print(x1 != x2)#是否不相等"
   ]
  },
  {
   "cell_type": "markdown",
   "id": "e6d93063",
   "metadata": {},
   "source": [
    "## 輸入"
   ]
  },
  {
   "cell_type": "code",
   "execution_count": 1,
   "id": "da1bf89a",
   "metadata": {},
   "outputs": [
    {
     "name": "stdout",
     "output_type": "stream",
     "text": [
      "請輸入姓名Ken\n",
      "Ken\n",
      "<class 'str'>\n"
     ]
    }
   ],
   "source": [
    "a = input(\"請輸入姓名\")\n",
    "print(a)\n",
    "print(type(a))"
   ]
  },
  {
   "cell_type": "code",
   "execution_count": 15,
   "id": "64e11531",
   "metadata": {},
   "outputs": [
    {
     "ename": "KeyboardInterrupt",
     "evalue": "Interrupted by user",
     "output_type": "error",
     "traceback": [
      "\u001b[1;31m---------------------------------------------------------------------------\u001b[0m",
      "\u001b[1;31mKeyboardInterrupt\u001b[0m                         Traceback (most recent call last)",
      "Cell \u001b[1;32mIn[15], line 1\u001b[0m\n\u001b[1;32m----> 1\u001b[0m s \u001b[38;5;241m=\u001b[39m \u001b[38;5;28minput\u001b[39m(\u001b[38;5;124m\"\u001b[39m\u001b[38;5;124m成績\u001b[39m\u001b[38;5;124m\"\u001b[39m)\n\u001b[0;32m      2\u001b[0m v \u001b[38;5;241m=\u001b[39m \u001b[38;5;28mint\u001b[39m(s)\u001b[38;5;66;03m#int()可以把文字轉數字\u001b[39;00m\n\u001b[0;32m      3\u001b[0m \u001b[38;5;28mprint\u001b[39m(v \u001b[38;5;241m>\u001b[39m\u001b[38;5;241m=\u001b[39m \u001b[38;5;241m60\u001b[39m)\n",
      "File \u001b[1;32mC:\\ProgramData\\anaconda3\\Lib\\site-packages\\ipykernel\\kernelbase.py:1202\u001b[0m, in \u001b[0;36mKernel.raw_input\u001b[1;34m(self, prompt)\u001b[0m\n\u001b[0;32m   1200\u001b[0m     msg \u001b[38;5;241m=\u001b[39m \u001b[38;5;124m\"\u001b[39m\u001b[38;5;124mraw_input was called, but this frontend does not support input requests.\u001b[39m\u001b[38;5;124m\"\u001b[39m\n\u001b[0;32m   1201\u001b[0m     \u001b[38;5;28;01mraise\u001b[39;00m StdinNotImplementedError(msg)\n\u001b[1;32m-> 1202\u001b[0m \u001b[38;5;28;01mreturn\u001b[39;00m \u001b[38;5;28mself\u001b[39m\u001b[38;5;241m.\u001b[39m_input_request(\n\u001b[0;32m   1203\u001b[0m     \u001b[38;5;28mstr\u001b[39m(prompt),\n\u001b[0;32m   1204\u001b[0m     \u001b[38;5;28mself\u001b[39m\u001b[38;5;241m.\u001b[39m_parent_ident[\u001b[38;5;124m\"\u001b[39m\u001b[38;5;124mshell\u001b[39m\u001b[38;5;124m\"\u001b[39m],\n\u001b[0;32m   1205\u001b[0m     \u001b[38;5;28mself\u001b[39m\u001b[38;5;241m.\u001b[39mget_parent(\u001b[38;5;124m\"\u001b[39m\u001b[38;5;124mshell\u001b[39m\u001b[38;5;124m\"\u001b[39m),\n\u001b[0;32m   1206\u001b[0m     password\u001b[38;5;241m=\u001b[39m\u001b[38;5;28;01mFalse\u001b[39;00m,\n\u001b[0;32m   1207\u001b[0m )\n",
      "File \u001b[1;32mC:\\ProgramData\\anaconda3\\Lib\\site-packages\\ipykernel\\kernelbase.py:1245\u001b[0m, in \u001b[0;36mKernel._input_request\u001b[1;34m(self, prompt, ident, parent, password)\u001b[0m\n\u001b[0;32m   1242\u001b[0m \u001b[38;5;28;01mexcept\u001b[39;00m \u001b[38;5;167;01mKeyboardInterrupt\u001b[39;00m:\n\u001b[0;32m   1243\u001b[0m     \u001b[38;5;66;03m# re-raise KeyboardInterrupt, to truncate traceback\u001b[39;00m\n\u001b[0;32m   1244\u001b[0m     msg \u001b[38;5;241m=\u001b[39m \u001b[38;5;124m\"\u001b[39m\u001b[38;5;124mInterrupted by user\u001b[39m\u001b[38;5;124m\"\u001b[39m\n\u001b[1;32m-> 1245\u001b[0m     \u001b[38;5;28;01mraise\u001b[39;00m \u001b[38;5;167;01mKeyboardInterrupt\u001b[39;00m(msg) \u001b[38;5;28;01mfrom\u001b[39;00m \u001b[38;5;28;01mNone\u001b[39;00m\n\u001b[0;32m   1246\u001b[0m \u001b[38;5;28;01mexcept\u001b[39;00m \u001b[38;5;167;01mException\u001b[39;00m:\n\u001b[0;32m   1247\u001b[0m     \u001b[38;5;28mself\u001b[39m\u001b[38;5;241m.\u001b[39mlog\u001b[38;5;241m.\u001b[39mwarning(\u001b[38;5;124m\"\u001b[39m\u001b[38;5;124mInvalid Message:\u001b[39m\u001b[38;5;124m\"\u001b[39m, exc_info\u001b[38;5;241m=\u001b[39m\u001b[38;5;28;01mTrue\u001b[39;00m)\n",
      "\u001b[1;31mKeyboardInterrupt\u001b[0m: Interrupted by user"
     ]
    }
   ],
   "source": [
    "s = input(\"成績\")\n",
    "v = int(s)#int()可以把文字轉數字\n",
    "print(v >= 60)"
   ]
  },
  {
   "cell_type": "code",
   "execution_count": 25,
   "id": "41bc9229",
   "metadata": {},
   "outputs": [
    {
     "name": "stdout",
     "output_type": "stream",
     "text": [
      "第一個數字:5\n",
      "第二個數字:7\n",
      "5+7=12\n",
      "5+7=12\n",
      "5+7=12\n"
     ]
    }
   ],
   "source": [
    "a = int(input(\"第一個數字:\"))\n",
    "b = int(input(\"第二個數字:\"))\n",
    "#假設輸入了5 7\n",
    "#希望顯示\n",
    "#5+7=12\n",
    "#print(a,b)\n",
    "\n",
    "print(a,\"+\",b,\"=\",a+b,sep=\"\")\n",
    "msg1 = str(a)+\"+\"+str(b)+\"=\"+str(a+b) \n",
    "print(msg1)\n",
    "msg2 = f\"{a}+{b}={a+b}\"\n",
    "print(msg2)"
   ]
  },
  {
   "cell_type": "markdown",
   "id": "764b8167",
   "metadata": {},
   "source": [
    "## 判斷式"
   ]
  },
  {
   "cell_type": "code",
   "execution_count": 28,
   "id": "a8ae447d",
   "metadata": {},
   "outputs": [
    {
     "name": "stdout",
     "output_type": "stream",
     "text": [
      "大於18\n"
     ]
    }
   ],
   "source": [
    "a = 21\n",
    "if a > 18:\n",
    "    print(\"大於18\")"
   ]
  },
  {
   "cell_type": "code",
   "execution_count": null,
   "id": "93c43663",
   "metadata": {},
   "outputs": [],
   "source": [
    "\n",
    "    "
   ]
  }
 ],
 "metadata": {
  "kernelspec": {
   "display_name": "Python 3 (ipykernel)",
   "language": "python",
   "name": "python3"
  },
  "language_info": {
   "codemirror_mode": {
    "name": "ipython",
    "version": 3
   },
   "file_extension": ".py",
   "mimetype": "text/x-python",
   "name": "python",
   "nbconvert_exporter": "python",
   "pygments_lexer": "ipython3",
   "version": "3.11.4"
  }
 },
 "nbformat": 4,
 "nbformat_minor": 5
}
