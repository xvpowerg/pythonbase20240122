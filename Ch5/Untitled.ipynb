{
 "cells": [
  {
   "cell_type": "markdown",
   "id": "7b35f3e2",
   "metadata": {},
   "source": [
    "# Python 程式偵錯\n",
    "\n",
    "+ Syntax Errors 語法錯誤\n",
    " + 該行語法錯誤，Python 無法編譯執行。\n",
    " + 修正語法錯誤\n",
    "+ Exception 例外\n",
    " + 語法撰寫上沒有錯誤，執行時因資料邏輯或外部系統狀態發生錯誤， Python 會引發例外(Exception) \n",
    " + 如果例外沒有被處理而傳遞到Python直譯器，程式中斷執行"
   ]
  },
  {
   "cell_type": "code",
   "execution_count": 6,
   "id": "d72ef687",
   "metadata": {},
   "outputs": [
    {
     "name": "stdout",
     "output_type": "stream",
     "text": [
      "分母不可為0\n"
     ]
    }
   ],
   "source": [
    "num1 = 10\n",
    "num2 = 0\n",
    "try:\n",
    "    print(num1 / num2)\n",
    "except:\n",
    "    print(\"分母不可為0\")"
   ]
  },
  {
   "cell_type": "markdown",
   "id": "b1313ec1",
   "metadata": {},
   "source": [
    "## Numpy\n",
    "+ 可做到的功能\n",
    "  + 快速的多維陣列操作。\n",
    "  + 可靠的科學功能函數庫。\n",
    "  + 可協助繪圖工具進行繪圖。\n",
    "+ NumPy 是幾乎每個科學 Python 應用程序或模組的核心，它提供了以向量化形式的快速 N-d 陣列類型可供操作。"
   ]
  },
  {
   "cell_type": "code",
   "execution_count": 9,
   "id": "d35fa65b",
   "metadata": {},
   "outputs": [
    {
     "name": "stdout",
     "output_type": "stream",
     "text": [
      "[1, 2, 3, 8, 4, 7]\n",
      "[ 9  6 10]\n",
      "[-7 -2 -4]\n",
      "[ 8  8 21]\n",
      "[0.125      0.5        0.42857143]\n"
     ]
    }
   ],
   "source": [
    "import numpy as np\n",
    "list1 = [1,2,3]\n",
    "list2 = [8,4,7]\n",
    "print(list1 + list2)\n",
    "\n",
    "a = np.array(list1)\n",
    "b = np.array(list2)\n",
    "print(a + b)\n",
    "print(a - b)\n",
    "print(a * b)\n",
    "print(a / b)"
   ]
  },
  {
   "cell_type": "markdown",
   "id": "0de388e4",
   "metadata": {},
   "source": [
    "## 陣列附加資料"
   ]
  },
  {
   "cell_type": "code",
   "execution_count": 10,
   "id": "3662af37",
   "metadata": {},
   "outputs": [
    {
     "name": "stdout",
     "output_type": "stream",
     "text": [
      "[ 1  3  5  7  9 10 11 12 18]\n"
     ]
    }
   ],
   "source": [
    "import numpy as np\n",
    "a = np.array([1,3,5,7,9])\n",
    "b = np.append(a,[10,11,12,18])\n",
    "print(b)"
   ]
  },
  {
   "cell_type": "markdown",
   "id": "6d3c9fab",
   "metadata": {},
   "source": [
    "## 陣列插入資料"
   ]
  },
  {
   "cell_type": "code",
   "execution_count": 14,
   "id": "8caee9ac",
   "metadata": {},
   "outputs": [
    {
     "name": "stdout",
     "output_type": "stream",
     "text": [
      "[ 1  3 11 18  5  7  9]\n"
     ]
    }
   ],
   "source": [
    "import numpy as np\n",
    "a = np.array([1,3,5,7,9])\n",
    "b = np.insert(a,2,[11,18])\n",
    "print(b)\n"
   ]
  },
  {
   "cell_type": "markdown",
   "id": "aad10595",
   "metadata": {},
   "source": [
    "## 陣列刪除資料"
   ]
  },
  {
   "cell_type": "code",
   "execution_count": 15,
   "id": "f26e9eda",
   "metadata": {},
   "outputs": [
    {
     "name": "stdout",
     "output_type": "stream",
     "text": [
      "[1 3 7 9]\n"
     ]
    }
   ],
   "source": [
    "import numpy as np\n",
    "a = np.array([1,3,5,7,9])\n",
    "b = np.delete(a,2)\n",
    "print(b)"
   ]
  },
  {
   "cell_type": "markdown",
   "id": "47d7475c",
   "metadata": {},
   "source": [
    "## 下載紫外線指數練習"
   ]
  },
  {
   "cell_type": "code",
   "execution_count": 16,
   "id": "c20d2ab9",
   "metadata": {},
   "outputs": [
    {
     "name": "stdout",
     "output_type": "stream",
     "text": [
      "https://opendata.cwa.gov.tw/api/v1/rest/datastore/O-A0005-001?Authorization=rdec-key-123-45678-011121314\n"
     ]
    }
   ],
   "source": [
    "import requests\n",
    "API_KEY = \"rdec-key-123-45678-011121314\"\n",
    "url = f\"https://opendata.cwa.gov.tw/api/v1/rest/datastore/O-A0005-001?Authorization={API_KEY}\"\n",
    "print(url)"
   ]
  },
  {
   "cell_type": "code",
   "execution_count": 27,
   "id": "8cfe371f",
   "metadata": {},
   "outputs": [
    {
     "name": "stdout",
     "output_type": "stream",
     "text": [
      "<class 'dict'>\n",
      "<class 'dict'>\n",
      "{'weatherElement': {'elementName': '氣象站每日紫外線指數最大值', 'location': [{'StationID': '467350', 'UVIndex': 3.0}, {'StationID': '467270', 'UVIndex': 5.0}, {'StationID': '467110', 'UVIndex': 4.0}, {'StationID': '467300', 'UVIndex': 4.0}, {'StationID': '466940', 'UVIndex': 3.0}, {'StationID': '466950', 'UVIndex': 5.0}, {'StationID': '466920', 'UVIndex': 4.0}, {'StationID': '466930', 'UVIndex': 4.0}, {'StationID': '466900', 'UVIndex': 2.0}, {'StationID': '466910', 'UVIndex': 7.0}, {'StationID': '467990', 'UVIndex': 5.0}, {'StationID': '467420', 'UVIndex': 6.0}, {'StationID': '466990', 'UVIndex': 6.0}, {'StationID': '467480', 'UVIndex': 7.0}, {'StationID': '467490', 'UVIndex': 5.0}, {'StationID': '467441', 'UVIndex': 6.0}, {'StationID': '467620', 'UVIndex': 6.0}, {'StationID': '467050', 'UVIndex': 3.0}, {'StationID': '467610', 'UVIndex': 3.0}, {'StationID': '467660', 'UVIndex': 6.0}, {'StationID': '467590', 'UVIndex': 7.0}, {'StationID': '467650', 'UVIndex': 5.0}, {'StationID': '467571', 'UVIndex': 4.0}, {'StationID': '467410', 'UVIndex': 7.0}, {'StationID': '467550', 'UVIndex': 9.0}, {'StationID': '467540', 'UVIndex': 7.0}, {'StationID': '467080', 'UVIndex': 6.0}], 'Date': '2024-01-30'}}\n",
      "氣象站每日紫外線指數最大值\n",
      "<class 'list'>\n",
      "467350 3.0\n",
      "467270 5.0\n",
      "467110 4.0\n",
      "467300 4.0\n",
      "466940 3.0\n",
      "466950 5.0\n",
      "466920 4.0\n",
      "466930 4.0\n",
      "466900 2.0\n",
      "466910 7.0\n",
      "467990 5.0\n",
      "467420 6.0\n",
      "466990 6.0\n",
      "467480 7.0\n",
      "467490 5.0\n",
      "467441 6.0\n",
      "467620 6.0\n",
      "467050 3.0\n",
      "467610 3.0\n",
      "467660 6.0\n",
      "467590 7.0\n",
      "467650 5.0\n",
      "467571 4.0\n",
      "467410 7.0\n",
      "467550 9.0\n",
      "467540 7.0\n",
      "467080 6.0\n"
     ]
    }
   ],
   "source": [
    "import requests\n",
    "resp = requests.get(url)#下載檔案\n",
    "resp.encoding = \"utf-8\" #給予編碼\n",
    "jsonData = resp.json()#將檔案轉會為JSON\n",
    "print(type(jsonData))\n",
    "records =  jsonData[\"records\"]\n",
    "print(type(records))\n",
    "print(records)\n",
    "weatherElement = records[\"weatherElement\"]\n",
    "print(weatherElement[\"elementName\"])\n",
    "location = weatherElement[\"location\"]\n",
    "print(type(location))\n",
    "#print(location)\n",
    "for v in location:\n",
    "    print(v[\"StationID\"],v[\"UVIndex\"])"
   ]
  },
  {
   "cell_type": "markdown",
   "id": "fbf841d5",
   "metadata": {},
   "source": [
    "## 氣候預報"
   ]
  },
  {
   "cell_type": "code",
   "execution_count": 28,
   "id": "4c9ddf13",
   "metadata": {},
   "outputs": [
    {
     "name": "stdout",
     "output_type": "stream",
     "text": [
      "https://opendata.cwa.gov.tw/api/v1/rest/datastore/F-C0032-001?Authorization=rdec-key-123-45678-011121314&format=JSON&locationName=臺北市&elementName=Wx,MinT,MaxT\n"
     ]
    }
   ],
   "source": [
    "import requests\n",
    "API_KEY = \"rdec-key-123-45678-011121314\"\n",
    "url = f\"https://opendata.cwa.gov.tw/api/v1/rest/datastore/F-C0032-001?Authorization={API_KEY}&format=JSON&locationName=臺北市&elementName=Wx,MinT,MaxT\"\n",
    "print(url)"
   ]
  },
  {
   "cell_type": "code",
   "execution_count": 29,
   "id": "92977e8a",
   "metadata": {},
   "outputs": [],
   "source": [
    "def getJson(url):\n",
    "    resp = requests.get(url)\n",
    "    resp.encoding = \"utf-8\"\n",
    "    data = resp.json()\n",
    "    return data"
   ]
  },
  {
   "cell_type": "code",
   "execution_count": 30,
   "id": "f098c6de",
   "metadata": {},
   "outputs": [
    {
     "data": {
      "text/plain": [
       "{'success': 'true',\n",
       " 'result': {'resource_id': 'F-C0032-001',\n",
       "  'fields': [{'id': 'datasetDescription', 'type': 'String'},\n",
       "   {'id': 'locationName', 'type': 'String'},\n",
       "   {'id': 'parameterName', 'type': 'String'},\n",
       "   {'id': 'parameterValue', 'type': 'String'},\n",
       "   {'id': 'parameterUnit', 'type': 'String'},\n",
       "   {'id': 'startTime', 'type': 'Timestamp'},\n",
       "   {'id': 'endTime', 'type': 'Timestamp'}]},\n",
       " 'records': {'datasetDescription': '三十六小時天氣預報',\n",
       "  'location': [{'locationName': '臺北市',\n",
       "    'weatherElement': [{'elementName': 'Wx',\n",
       "      'time': [{'startTime': '2024-01-31 12:00:00',\n",
       "        'endTime': '2024-01-31 18:00:00',\n",
       "        'parameter': {'parameterName': '多雲', 'parameterValue': '4'}},\n",
       "       {'startTime': '2024-01-31 18:00:00',\n",
       "        'endTime': '2024-02-01 06:00:00',\n",
       "        'parameter': {'parameterName': '晴時多雲', 'parameterValue': '2'}},\n",
       "       {'startTime': '2024-02-01 06:00:00',\n",
       "        'endTime': '2024-02-01 18:00:00',\n",
       "        'parameter': {'parameterName': '晴時多雲', 'parameterValue': '2'}}]},\n",
       "     {'elementName': 'MinT',\n",
       "      'time': [{'startTime': '2024-01-31 12:00:00',\n",
       "        'endTime': '2024-01-31 18:00:00',\n",
       "        'parameter': {'parameterName': '22', 'parameterUnit': 'C'}},\n",
       "       {'startTime': '2024-01-31 18:00:00',\n",
       "        'endTime': '2024-02-01 06:00:00',\n",
       "        'parameter': {'parameterName': '18', 'parameterUnit': 'C'}},\n",
       "       {'startTime': '2024-02-01 06:00:00',\n",
       "        'endTime': '2024-02-01 18:00:00',\n",
       "        'parameter': {'parameterName': '18', 'parameterUnit': 'C'}}]},\n",
       "     {'elementName': 'MaxT',\n",
       "      'time': [{'startTime': '2024-01-31 12:00:00',\n",
       "        'endTime': '2024-01-31 18:00:00',\n",
       "        'parameter': {'parameterName': '26', 'parameterUnit': 'C'}},\n",
       "       {'startTime': '2024-01-31 18:00:00',\n",
       "        'endTime': '2024-02-01 06:00:00',\n",
       "        'parameter': {'parameterName': '22', 'parameterUnit': 'C'}},\n",
       "       {'startTime': '2024-02-01 06:00:00',\n",
       "        'endTime': '2024-02-01 18:00:00',\n",
       "        'parameter': {'parameterName': '26', 'parameterUnit': 'C'}}]}]}]}}"
      ]
     },
     "execution_count": 30,
     "metadata": {},
     "output_type": "execute_result"
    }
   ],
   "source": [
    "getJson(url)"
   ]
  },
  {
   "cell_type": "code",
   "execution_count": 31,
   "id": "0ef3049f",
   "metadata": {},
   "outputs": [],
   "source": [
    "def getParameter(typeStr,data):\n",
    "    strMsg = \"\"\n",
    "    for wx in data:\n",
    "        strMsg += \"開始日期:\"+wx[\"startTime\"]\n",
    "        strMsg += \"結束日期:\"+wx[\"endTime\"]\n",
    "        strMsg += typeStr + wx[\"parameter\"][\"parameterName\"]\n",
    "    return strMsg   \n",
    "        "
   ]
  },
  {
   "cell_type": "code",
   "execution_count": 37,
   "id": "c0fb9a48",
   "metadata": {},
   "outputs": [],
   "source": [
    "def loadData(locatName):\n",
    "    if len(locatName) == 0:\n",
    "        return \"\"\n",
    "    url = f\"https://opendata.cwa.gov.tw/api/v1/rest/datastore/F-C0032-001?Authorization={API_KEY}&format=JSON&locationName={locatName}&elementName=Wx,MinT,MaxT\"\n",
    "    josnObj = getJson(url)\n",
    "    location = josnObj[\"records\"][\"location\"]\n",
    "    if len(location) == 0:\n",
    "        return \"\"\n",
    "    \n",
    "    data=\"\"\n",
    "    for locat in location: \n",
    "  \n",
    "        name = locat['locationName']+\":\"\n",
    "        wx = getParameter(\"氣候狀態:\",locat['weatherElement'][0][\"time\"])          \n",
    "        mit = getParameter(\"最低溫度:\",locat['weatherElement'][1][\"time\"])\n",
    "        mxt = getParameter(\"最高溫度:\",locat['weatherElement'][2][\"time\"])\n",
    "        msg = name + wx + mit+mxt\n",
    "        data+= msg\n",
    "    return data"
   ]
  },
  {
   "cell_type": "code",
   "execution_count": 38,
   "id": "1cc2a372",
   "metadata": {},
   "outputs": [
    {
     "data": {
      "text/plain": [
       "'臺北市:開始日期:2024-01-31 12:00:00結束日期:2024-01-31 18:00:00氣候狀態:多雲開始日期:2024-01-31 18:00:00結束日期:2024-02-01 06:00:00氣候狀態:晴時多雲開始日期:2024-02-01 06:00:00結束日期:2024-02-01 18:00:00氣候狀態:晴時多雲開始日期:2024-01-31 12:00:00結束日期:2024-01-31 18:00:00最低溫度:22開始日期:2024-01-31 18:00:00結束日期:2024-02-01 06:00:00最低溫度:18開始日期:2024-02-01 06:00:00結束日期:2024-02-01 18:00:00最低溫度:18開始日期:2024-01-31 12:00:00結束日期:2024-01-31 18:00:00最高溫度:26開始日期:2024-01-31 18:00:00結束日期:2024-02-01 06:00:00最高溫度:22開始日期:2024-02-01 06:00:00結束日期:2024-02-01 18:00:00最高溫度:26'"
      ]
     },
     "execution_count": 38,
     "metadata": {},
     "output_type": "execute_result"
    }
   ],
   "source": [
    "loadData(\"臺北市\")"
   ]
  },
  {
   "cell_type": "markdown",
   "id": "7a5dc0fc",
   "metadata": {},
   "source": [
    "## 爬蟲"
   ]
  },
  {
   "cell_type": "markdown",
   "id": "4a569864",
   "metadata": {},
   "source": [
    "## BeautifulSoup Base\n",
    "find() 只找第一個符合條件的\n",
    "\n",
    "https://www.crummy.com/software/BeautifulSoup/bs4/doc.zh/#find-all\n",
    "\n",
    "find_all() 找所有符合條件的\n",
    "\n",
    "select_one() 只找一個符合條件的可直接使用css語法\n",
    "\n",
    "select() 找所有符合條件的可使用css語法"
   ]
  },
  {
   "cell_type": "code",
   "execution_count": 50,
   "id": "0f277407",
   "metadata": {},
   "outputs": [
    {
     "name": "stdout",
     "output_type": "stream",
     "text": [
      "<a id='a1' class=\"c1\" href=\"https://google.com\">Google</a>\n",
      "<a id='a2' class=\"c1\"  href=\"https://yahoo.com\">Yahoo</a>\n",
      "<a id='a3' class=\"c3\" href=\"https://facebook.com\">Facebook</a>\n",
      "\n",
      "<a class=\"c1\" href=\"https://google.com\" id=\"a1\">Google</a>\n",
      "[<a class=\"c1\" href=\"https://google.com\" id=\"a1\">Google</a>, <a class=\"c1\" href=\"https://yahoo.com\" id=\"a2\">Yahoo</a>]\n",
      "Google\n",
      "https://google.com\n",
      "Google https://google.com\n",
      "Yahoo https://yahoo.com\n"
     ]
    }
   ],
   "source": [
    "from bs4 import BeautifulSoup\n",
    "html='''<a id='a1' class=\"c1\" href=\"https://google.com\">Google</a>\n",
    "<a id='a2' class=\"c1\"  href=\"https://yahoo.com\">Yahoo</a>\n",
    "<a id='a3' class=\"c3\" href=\"https://facebook.com\">Facebook</a>\n",
    "'''\n",
    "print(html)\n",
    "soup = BeautifulSoup(html,\"html5lib\")\n",
    "print(soup.find(id='a1'))\n",
    "print(soup.find_all(class_=\"c1\"))\n",
    "\n",
    "print(soup.find(id='a1').getText())\n",
    "print(soup.find(id='a1').get('href'))\n",
    "\n",
    "tmpList = soup.find_all(class_=\"c1\")\n",
    "for tag in tmpList:\n",
    "    print(tag.getText(),tag.get(\"href\"))"
   ]
  },
  {
   "cell_type": "markdown",
   "id": "67583c56",
   "metadata": {},
   "source": [
    "# 使用html檔案練習"
   ]
  },
  {
   "cell_type": "code",
   "execution_count": 61,
   "id": "65823904",
   "metadata": {},
   "outputs": [
    {
     "name": "stdout",
     "output_type": "stream",
     "text": [
      "<h1>class與id練習測試h1標籤</h1>\n",
      "class與id練習測試h1標籤\n",
      "<h1>國家首都資料表</h1>\n",
      "國家首都資料表\n",
      "<h1>h1標籤測試1</h1>\n",
      "h1標籤測試1\n",
      "<h1>h1標籤測試2</h1>\n",
      "h1標籤測試2\n",
      "<h1>h1標籤測試3</h1>\n",
      "h1標籤測試3\n",
      "<h1>h1標籤測試4</h1>\n",
      "h1標籤測試4\n"
     ]
    }
   ],
   "source": [
    "import bs4\n",
    "htmlFile = open('web1.html','r',encoding='utf8',errors='igore')\n",
    "objSoup = bs4.BeautifulSoup(htmlFile,'html5lib')\n",
    "#print(objSoup)\n",
    "objTag = objSoup.find_all('h1')\n",
    "for data in objTag:\n",
    "    print(data)\n",
    "    print(data.getText())"
   ]
  },
  {
   "cell_type": "code",
   "execution_count": 66,
   "id": "3186fc37",
   "metadata": {},
   "outputs": [
    {
     "name": "stdout",
     "output_type": "stream",
     "text": [
      "<li class=\"class1\">Foo</li>\n",
      "Foo\n",
      "<li class=\"class1\">Bar</li>\n",
      "Bar\n",
      "<li class=\"class1\">Jay</li>\n",
      "Jay\n"
     ]
    }
   ],
   "source": [
    "import bs4\n",
    "htmlFile = open('web1.html','r',encoding='utf8',errors='igore')\n",
    "objSoup = bs4.BeautifulSoup(htmlFile,'html5lib')\n",
    "objTag = objSoup.find_all(class_='class1',limit=3)\n",
    "for data in objTag:\n",
    "    print(data)\n",
    "    print(data.getText())"
   ]
  },
  {
   "cell_type": "code",
   "execution_count": null,
   "id": "c4acb658",
   "metadata": {},
   "outputs": [],
   "source": []
  }
 ],
 "metadata": {
  "kernelspec": {
   "display_name": "Python 3 (ipykernel)",
   "language": "python",
   "name": "python3"
  },
  "language_info": {
   "codemirror_mode": {
    "name": "ipython",
    "version": 3
   },
   "file_extension": ".py",
   "mimetype": "text/x-python",
   "name": "python",
   "nbconvert_exporter": "python",
   "pygments_lexer": "ipython3",
   "version": "3.11.4"
  }
 },
 "nbformat": 4,
 "nbformat_minor": 5
}
