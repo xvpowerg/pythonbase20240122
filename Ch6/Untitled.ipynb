{
 "cells": [
  {
   "cell_type": "code",
   "execution_count": 2,
   "id": "aca33dc1",
   "metadata": {},
   "outputs": [],
   "source": [
    "import requests\n",
    "from bs4 import BeautifulSoup\n"
   ]
  },
  {
   "cell_type": "code",
   "execution_count": 25,
   "id": "e6a22ea5",
   "metadata": {},
   "outputs": [
    {
     "name": "stdout",
     "output_type": "stream",
     "text": [
      "https://zh.wikipedia.org/zh-tw/2023%E5%B9%B4%E7%94%B5%E5%BD%B1\n",
      "1\n",
      "\n",
      "Barbie芭比\n",
      "$1,445,638,421\n",
      "\n",
      "2\n",
      "\n",
      "超級瑪利歐兄弟電影版\n",
      "$1,361,949,854\n",
      "\n",
      "3\n",
      "\n",
      "奧本海默\n",
      "$955,807,450\n",
      "\n",
      "4\n",
      "\n",
      "星際異攻隊3\n",
      "$845,555,777\n",
      "\n",
      "5\n",
      "\n",
      "玩命關頭X\n",
      "$706,454,095\n",
      "\n",
      "6\n",
      "\n",
      "蜘蛛人：穿越新宇宙\n",
      "$690,615,475\n",
      "\n",
      "7\n",
      "\n",
      "滿江紅\n",
      "$673,556,758\n",
      "\n",
      "8\n",
      "\n",
      "流浪地球2\n",
      "$604,456,556\n",
      "\n",
      "9\n",
      "\n",
      "小美人魚\n",
      "$569,626,289\n",
      "\n",
      "10\n",
      "\n",
      "不可能的任務：致命清算 第一章\n",
      "$567,535,383\n",
      "\n"
     ]
    }
   ],
   "source": [
    "url = \"https://zh.wikipedia.org/zh-tw/2023%E5%B9%B4%E7%94%B5%E5%BD%B1\"\n",
    "print(url)\n",
    "resp = requests.get(url)\n",
    "resp.encoding = 'utf-8'\n",
    "#print(resp.text)\n",
    "soup = BeautifulSoup(resp.text,'html5lib')\n",
    "movieTable =  soup.find(\"table\",class_=\"wikitable sortable\").find(\"tbody\")\n",
    "trList = movieTable.find_all(\"tr\")\n",
    "for inx in range(1,len(trList)):\n",
    "    print(trList[inx].find(\"th\").text)\n",
    "    print(trList[inx].find(\"a\").text)\n",
    "    #print(trList[inx].find_all(\"td\")[0].find(\"a\").text)\n",
    "    print(trList[inx].find_all(\"td\")[2].text)\n",
    "   \n",
    "    \n",
    "# myTr =  movieTable.find(\"tr\").find_all(\"th\")\n",
    "# for th in myTr:\n",
    "#     print(th.text)\n"
   ]
  },
  {
   "cell_type": "markdown",
   "id": "5fb097ac",
   "metadata": {},
   "source": [
    "# ChatGPT prompt"
   ]
  },
  {
   "cell_type": "markdown",
   "id": "a3f72305",
   "metadata": {},
   "source": [
    "## Josn輸出"
   ]
  },
  {
   "cell_type": "markdown",
   "id": "0d53a2ea",
   "metadata": {},
   "source": [
    "輸出全世界最多人口5個國家 輸出:使用Josn key為國家名稱 value為人口數\n",
    "\n",
    "{ \"中國\": 1444216107, \"印度\": 1393409038, \"美國\": 332915073, \"印尼\": 276361783, \"巴基斯坦\": 225199937 }"
   ]
  },
  {
   "cell_type": "markdown",
   "id": "9f63620a",
   "metadata": {},
   "source": [
    "## 總結"
   ]
  },
  {
   "cell_type": "markdown",
   "id": "f982e008",
   "metadata": {},
   "source": [
    "幫我總結以下文字:\n",
    "\n",
    "Input:希臘版本的故事描述一名樵夫不小心讓自己的斧頭掉進河裡，失去生財工具的樵夫嚎啕大哭，河中的荷米斯憐憫他，便拿出一把金斧頭，問：「你掉的是這把金斧嗎？」樵夫回答「不是」，荷米斯再拿出一把銀斧問了同樣的問題，而樵夫也誠實回答，直到荷米斯拿出樵夫自己的斧頭時，樵夫才表示那是自己的斧頭。荷米斯認為樵夫很誠實，便將三把斧頭都賞給他。\n",
    "樵夫的鄰居聽到這件事後很羨慕，他故意把自己的斧頭丟進河裡並佯裝哭泣，當荷米斯出現並詢問他是否掉了金斧頭時，那個鄰居回答「是的」，荷米斯回到河裡再也沒有出現，貪婪的鄰居連自己的斧頭都沒有取回。"
   ]
  },
  {
   "cell_type": "markdown",
   "id": "29ff299a",
   "metadata": {},
   "source": [
    "## 情緒分析"
   ]
  },
  {
   "cell_type": "markdown",
   "id": "88d8d786",
   "metadata": {},
   "source": [
    "輸出格式如下:\n",
    "\n",
    "Input:這電影很好看 情緒:1 Input:這電影很難看 情緒:0 Input:這電影很棒 情緒:1 Input:這電影很爛 情緒:0 輸出格式:下面文字情緒是正面或負面　輸出為數字 依上面案例輸出 正面輸出1 負面輸出0"
   ]
  },
  {
   "cell_type": "markdown",
   "id": "e64941ff",
   "metadata": {},
   "source": [
    "Input:这才是漫威！《复联4》后最佳！笑着笑着就流泪…银护浓味相当冲，沙雕逗比浓度相当高，笑料足，动作场面够大也精彩，但最让人动容的不是这些，而是让人泪目的细节：一个小蓝人出现，许多人鼓掌，那是粉丝最喜欢和怀恋的角色之一；一声奇怪的猴叫，是一位硬汉父亲的柔软，和我们从未见过的父女美好时光；一句“嗯”，是跨越多元宇宙的姐妹情；一个纳米科技手臂，是钢铁侠的遗产；一个尴尬的拥抱，是没有血缘关系的家人；一只被捡起的小浣熊，是曾经几条怪胎生命的抱团取暖，和现在的一个都不能少；一句“我爱你们”，是别人都听不懂的IamGroot，如今你却能听懂他每句的含义。他们来自宇宙中各个角落的三流角色，是怪胎，但聚在一起，他们是会为了对方牺牲一切的一家人。这样的系列结局，作为粉丝我很满意。感谢这帮逗比，I am Groot！ 情緒:"
   ]
  },
  {
   "cell_type": "markdown",
   "id": "fa789c3f",
   "metadata": {},
   "source": [
    "## OepnAI"
   ]
  },
  {
   "cell_type": "code",
   "execution_count": 29,
   "id": "f8534509",
   "metadata": {},
   "outputs": [],
   "source": [
    "import openai\n",
    "import json\n",
    "openai.api_key = \"\""
   ]
  },
  {
   "cell_type": "code",
   "execution_count": 40,
   "id": "29784d7f",
   "metadata": {},
   "outputs": [
    {
     "name": "stdout",
     "output_type": "stream",
     "text": [
      "汪汪\n"
     ]
    }
   ],
   "source": [
    "messages = [\n",
    "    {\"role\":\"user\",\"content\":\"狗叫\"}\n",
    "]\n",
    "response = openai.ChatCompletion.create(messages=messages,\n",
    "                            model=\"gpt-3.5-turbo\",\n",
    "                            max_tokens=200)\n",
    "print(response[\"choices\"][0][\"message\"][\"content\"])"
   ]
  },
  {
   "cell_type": "code",
   "execution_count": 43,
   "id": "150a6641",
   "metadata": {},
   "outputs": [
    {
     "name": "stdout",
     "output_type": "stream",
     "text": [
      "{\"China\": 1444216107, \"India\": 1393409037, \"United States\": 332915073, \"Indonesia\": 276361783, \"Pakistan\": 225199937}\n",
      "China 1444216107\n",
      "India 1393409037\n",
      "United States 332915073\n",
      "Indonesia 276361783\n",
      "Pakistan 225199937\n"
     ]
    }
   ],
   "source": [
    "messages = [{\"role\":\"user\",\"content\":\"輸出全世界最多人口5個國家 輸出:使用Josn key為國家名稱 value為人口數\"}]\n",
    "response = openai.ChatCompletion.create(messages=messages,model=\"gpt-3.5-turbo\",max_tokens=300)\n",
    "strJson = response[\"choices\"][0][\"message\"][\"content\"]\n",
    "print(strJson)\n",
    "strJson = strJson.strip()\n",
    "jsonObj = json.loads(strJson)\n",
    "for key in jsonObj:\n",
    "    print(key,jsonObj[key])"
   ]
  },
  {
   "cell_type": "markdown",
   "id": "ce2af8a5",
   "metadata": {},
   "source": [
    "## OpenAI 訓練範例"
   ]
  },
  {
   "cell_type": "code",
   "execution_count": 46,
   "id": "8b8cddbb",
   "metadata": {},
   "outputs": [],
   "source": [
    "def get_city(msg):\n",
    "    \n",
    "    messages = [\n",
    "        {\"role\": \"system\", \"content\": \"將輸入的縣市取出如果沒有縣市輸出空白字串 將台轉換為臺\" },\n",
    "        {\"role\": \"user\", \"content\": \"台北的天氣狀況\" },\n",
    "        {\"role\": \"assistant\", \"content\": '[\"臺北市\"]'},\n",
    "        {\"role\": \"user\", \"content\": \"台南的天氣狀況\" },\n",
    "        {\"role\": \"assistant\", \"content\": '[\"臺南市\"]'},\n",
    "        {\"role\": \"user\", \"content\": \"我想知道高雄,台北的天氣狀況\" },\n",
    "        {\"role\": \"assistant\", \"content\": '[\"高雄市\", \"臺北市]'},\n",
    "        {\"role\": \"user\", \"content\": \"台中的天氣如何?\"},\n",
    "        {\"role\": \"assistant\", \"content\": '[\"臺中市\"]'},\n",
    "        {\"role\": \"user\", \"content\": \"台中高雄的天氣如何?\"},\n",
    "        {\"role\": \"assistant\", \"content\": '[\"臺中市\",\"高雄市\"]'},\n",
    "        {\"role\": \"user\", \"content\": \"嘉義市的天氣如何?\"},\n",
    "        {\"role\": \"assistant\", \"content\": '[\"嘉義市\"]'},\n",
    "        {\"role\": \"user\", \"content\": \"天氣好嗎?\" },\n",
    "        {\"role\": \"assistant\", \"content\": '[]'},\n",
    "         {\"role\": \"user\", \"content\": \"還好吧!\" },\n",
    "        {\"role\": \"assistant\", \"content\": '[]'},\n",
    "        {\"role\": \"user\", \"content\": f\"將輸入的縣市取出: {msg}\"}\n",
    "        \n",
    "        \n",
    "    ]\n",
    "    response = openai.ChatCompletion.create(\n",
    "        messages=messages,       \n",
    "        model=\"gpt-3.5-turbo\", #use gpt-3.5-turbo if you don't have gpt-4 access\n",
    "        max_tokens=200,\n",
    "    )\n",
    "    #print(response[\"choices\"][0][\"message\"][\"content\"])\n",
    "    citys = json.loads(response[\"choices\"][0][\"message\"][\"content\"])\n",
    "    return citys"
   ]
  },
  {
   "cell_type": "code",
   "execution_count": 47,
   "id": "a49305e7",
   "metadata": {},
   "outputs": [
    {
     "name": "stdout",
     "output_type": "stream",
     "text": [
      "['臺北市']\n"
     ]
    }
   ],
   "source": [
    "jsonObj = get_city(\"台北市天氣好嗎?\")\n",
    "print(jsonObj)"
   ]
  },
  {
   "cell_type": "code",
   "execution_count": 48,
   "id": "60c20842",
   "metadata": {},
   "outputs": [
    {
     "name": "stdout",
     "output_type": "stream",
     "text": [
      "['臺北市', '高雄市']\n"
     ]
    }
   ],
   "source": [
    "jsonObj = get_city(\"台北高雄市天氣好嗎?\")\n",
    "print(jsonObj)"
   ]
  },
  {
   "cell_type": "markdown",
   "id": "96c9a91a",
   "metadata": {},
   "source": [
    "## 聊天"
   ]
  },
  {
   "cell_type": "code",
   "execution_count": 52,
   "id": "59561cee",
   "metadata": {},
   "outputs": [
    {
     "name": "stdout",
     "output_type": "stream",
     "text": [
      "請輸入聊天內容(輸入Quit離開):請問8的平方是多少\n",
      "8的平方等於64。\n",
      "請輸入聊天內容(輸入Quit離開):剛剛算的數字開根號是多少\n",
      "剛剛算出的數字64開根號等於8。\n",
      "請輸入聊天內容(輸入Quit離開):quit\n",
      "好的，若有任何其他問題，歡迎隨時向我提問。再見!\n"
     ]
    }
   ],
   "source": [
    "import openai\n",
    "import json\n",
    "openai.api_key = \"\"\n",
    "\n",
    "def main():\n",
    "    messages = [{\"role\": \"system\", \"content\": \"你好!\"}]\n",
    "    \n",
    "    while True:   \n",
    "        user_input = input(\"請輸入聊天內容(輸入Quit離開):\")\n",
    "        messages.append({\"role\": \"user\", \"content\": user_input})\n",
    "        response = openai.ChatCompletion.create(\n",
    "            messages=messages,       \n",
    "            model=\"gpt-3.5-turbo\" #use gpt-3.5-turbo if you don't have gpt-4 access\n",
    "        ) \n",
    "        messages.append(response[\"choices\"][0][\"message\"].to_dict()) #ChartGPT回應紀錄在messages內\n",
    "        print(response[\"choices\"][0][\"message\"][\"content\"])\n",
    "        if user_input.lower() == \"quit\":\n",
    "            break\n",
    "main()    "
   ]
  },
  {
   "cell_type": "code",
   "execution_count": 53,
   "id": "cda22223",
   "metadata": {},
   "outputs": [
    {
     "name": "stdout",
     "output_type": "stream",
     "text": [
      "請輸入聊天內容(輸入Quit離開):5+2\n",
      "5+2等于7。\n",
      "請輸入聊天內容(輸入Quit離開):quit\n",
      "好的，再见！如果您还有其他问题，随时可以问我。祝您有个愉快的一天！\n"
     ]
    }
   ],
   "source": [
    "import openai\n",
    "import json\n",
    "openai.api_key = \"\"\n",
    "\n",
    "def main():\n",
    "    messages = [{\"role\": \"system\", \"content\": \"你好!\"}]\n",
    "    \n",
    "    while True:\n",
    "        user_input=input(\"請輸入聊天內容(輸入Quit離開):\")\n",
    "        messages.append({\"role\":\"user\",\"content\":user_input})\n",
    "        response = openai.ChatCompletion.create(\n",
    "            messages=messages,       \n",
    "            model=\"gpt-3.5-turbo\" #use gpt-3.5-turbo if you don't have gpt-4 access\n",
    "        ) \n",
    "        messages.append(response[\"choices\"][0][\"message\"].to_dict())\n",
    "        print(response[\"choices\"][0][\"message\"][\"content\"])\n",
    "        if user_input.lower()==\"quit\":\n",
    "            break\n",
    "main()"
   ]
  },
  {
   "cell_type": "markdown",
   "id": "c02bcc83",
   "metadata": {},
   "source": [
    "## 詢問天氣專案"
   ]
  },
  {
   "cell_type": "code",
   "execution_count": 60,
   "id": "7730bceb",
   "metadata": {},
   "outputs": [],
   "source": [
    "import requests\n",
    "import openai\n",
    "import json\n",
    "openai.api_key = \"\"\n",
    "API_KEY = \"rdec-key-123-45678-011121314\" #氣象局的Key\n"
   ]
  },
  {
   "cell_type": "markdown",
   "id": "3541dd24",
   "metadata": {},
   "source": [
    "## GPT回傳關鍵字訓練"
   ]
  },
  {
   "cell_type": "code",
   "execution_count": 61,
   "id": "ba2fbab0",
   "metadata": {},
   "outputs": [],
   "source": [
    "def get_city(msg):\n",
    "    \n",
    "    messages = [\n",
    "        {\"role\": \"system\", \"content\": \"將輸入的縣市取出如果沒有縣市輸出空白字串 將台轉換為臺\" },\n",
    "        {\"role\": \"user\", \"content\": \"台北的天氣狀況\" },\n",
    "        {\"role\": \"assistant\", \"content\": '[\"臺北市\"]'},\n",
    "        {\"role\": \"user\", \"content\": \"台南的天氣狀況\" },\n",
    "        {\"role\": \"assistant\", \"content\": '[\"臺南市\"]'},\n",
    "        {\"role\": \"user\", \"content\": \"我想知道高雄,台北的天氣狀況\" },\n",
    "        {\"role\": \"assistant\", \"content\": '[\"高雄市\", \"臺北市]'},\n",
    "        {\"role\": \"user\", \"content\": \"台中的天氣如何?\"},\n",
    "        {\"role\": \"assistant\", \"content\": '[\"臺中市\"]'},\n",
    "        {\"role\": \"user\", \"content\": \"台中高雄的天氣如何?\"},\n",
    "        {\"role\": \"assistant\", \"content\": '[\"臺中市\",\"高雄市\"]'},\n",
    "        {\"role\": \"user\", \"content\": \"嘉義市的天氣如何?\"},\n",
    "        {\"role\": \"assistant\", \"content\": '[\"嘉義市\"]'},\n",
    "        {\"role\": \"user\", \"content\": \"天氣好嗎?\" },\n",
    "        {\"role\": \"assistant\", \"content\": '[]'},\n",
    "         {\"role\": \"user\", \"content\": \"還好吧!\" },\n",
    "        {\"role\": \"assistant\", \"content\": '[]'},\n",
    "        {\"role\": \"user\", \"content\": f\"將輸入的縣市取出: {msg}\"}\n",
    "        \n",
    "        \n",
    "    ]\n",
    "    response = openai.ChatCompletion.create(\n",
    "        messages=messages,       \n",
    "        model=\"gpt-3.5-turbo\", #use gpt-3.5-turbo if you don't have gpt-4 access\n",
    "        max_tokens=200,\n",
    "    )\n",
    "    #print(response[\"choices\"][0][\"message\"][\"content\"])\n",
    "    citys = json.loads(response[\"choices\"][0][\"message\"][\"content\"])\n",
    "    return citys"
   ]
  },
  {
   "cell_type": "markdown",
   "id": "ca1f1850",
   "metadata": {},
   "source": [
    "## GPT的回應"
   ]
  },
  {
   "cell_type": "code",
   "execution_count": 62,
   "id": "480270b3",
   "metadata": {},
   "outputs": [],
   "source": [
    "# prompt 臺北天氣好嗎?\n",
    "# msg 氣候相關資訊\n",
    "def getMsg(prompt,msg):    \n",
    "    messages = [       \n",
    "        {\"role\": \"user\", \"content\": f\"使用data為資料來源 回應語系為中文 並用愉快的語氣 表達所有日期天候狀況: data:{prompt} {msg}\"}                \n",
    "    ] \n",
    "    \n",
    "    if len(msg) == 0:\n",
    "        messages = [       \n",
    "            {\"role\": \"user\", \"content\": f\"並用愉快的語氣 說明您題供的資料有錯誤 所以找不到氣候資訊\"}                \n",
    "        ] \n",
    "    response = openai.ChatCompletion.create(\n",
    "        messages=messages,       \n",
    "        model=\"gpt-3.5-turbo\", #use gpt-3.5-turbo if you don't have gpt-4 access\n",
    "    )\n",
    "    msg = response[\"choices\"][0][\"message\"][\"content\"]  \n",
    "    return msg "
   ]
  },
  {
   "cell_type": "markdown",
   "id": "12f03290",
   "metadata": {},
   "source": [
    "## 開始查詢氣候"
   ]
  },
  {
   "cell_type": "code",
   "execution_count": 67,
   "id": "edc36c05",
   "metadata": {},
   "outputs": [],
   "source": [
    "def getJson(url):\n",
    "    resp = requests.get(url)\n",
    "    resp.encoding = \"utf-8\"\n",
    "    #print(resp.ok)   \n",
    "    data = resp.json()\n",
    "    return data"
   ]
  },
  {
   "cell_type": "code",
   "execution_count": 68,
   "id": "722ad3a0",
   "metadata": {},
   "outputs": [],
   "source": [
    "def getParameter(typeStr,data):\n",
    "    strMsg = \"\"\n",
    "    for wx in  data:  \n",
    "        strMsg+=\"開始日期:\"+wx[\"startTime\"]\n",
    "        strMsg+=\"結束日期:\"+wx[\"endTime\"]\n",
    "        strMsg+=typeStr+wx[\"parameter\"][\"parameterName\"]\n",
    "    return strMsg     "
   ]
  },
  {
   "cell_type": "code",
   "execution_count": 69,
   "id": "34888fc2",
   "metadata": {},
   "outputs": [],
   "source": [
    "def lodaData(locatNames):    \n",
    "    if len(locatNames) == 0:\n",
    "        return \"\"\n",
    "    url = f\"https://opendata.cwa.gov.tw/api/v1/rest/datastore/F-C0032-001?Authorization={API_KEY}&format=JSON&locationName={locatNames}&elementName=Wx,MinT,MaxT\"\n",
    "    light = getJson(url)\n",
    "    #print(\"records\" in light)\n",
    "    location = light[\"records\"][\"location\"]\n",
    "    if len(location) == 0:\n",
    "        return \"\"\n",
    "    data=\"\"\n",
    "    for locat in location:    \n",
    "    #print(locat)   \n",
    "        name = locat['locationName']+\":\"\n",
    "        wx = getParameter(\"氣候狀態:\",locat['weatherElement'][0][\"time\"])          \n",
    "        mit = getParameter(\"最低溫度:\",locat['weatherElement'][1][\"time\"])\n",
    "        mxt = getParameter(\"最高溫度:\",locat['weatherElement'][2][\"time\"])\n",
    "        msg = name + wx + mit+mxt\n",
    "        data+= msg\n",
    "    return data      "
   ]
  },
  {
   "cell_type": "markdown",
   "id": "f88b2ea7",
   "metadata": {},
   "source": [
    "## 查詢氣候主程式"
   ]
  },
  {
   "cell_type": "code",
   "execution_count": 72,
   "id": "afa4e7f4",
   "metadata": {},
   "outputs": [
    {
     "name": "stdout",
     "output_type": "stream",
     "text": [
      "請輸入查詢氣候的城市:高雄市天氣如何?\n",
      "高雄市2024年2月2日12:00至18:00的天氣狀態是晴時多雲，2月2日18:00至2月3日06:00也是晴時多雲，2月3日06:00至18:00則是多雲。最低溫度方面，2月2日12:00至18:00的最低溫度是25度，2月2日18:00至2月3日06:00的最低溫度是19度，2月3日06:00至18:00的最低溫度也是19度。最高溫度方面，2月2日12:00至18:00的最高溫度是28度，2月2日18:00至2月3日06:00的最高溫度是25度，2月3日06:00至18:00的最高溫度是27度。期間有晴時多雲及多雲的天氣，氣溫舒適，是個愉快的天氣。\n"
     ]
    }
   ],
   "source": [
    "prompt = input(\"請輸入查詢氣候的城市:\")\n",
    "prompt = prompt.replace(\"台\",\"臺\")\n",
    "jsonObj = get_city(prompt)\n",
    "queryStr = \",\".join(jsonObj)\n",
    "data = lodaData(queryStr)#查天氣狀況\n",
    "print(getMsg(prompt,data))#GPT回應天氣訊息\n"
   ]
  },
  {
   "cell_type": "code",
   "execution_count": null,
   "id": "c13d9892",
   "metadata": {},
   "outputs": [],
   "source": []
  },
  {
   "cell_type": "code",
   "execution_count": null,
   "id": "1c044471",
   "metadata": {},
   "outputs": [],
   "source": []
  }
 ],
 "metadata": {
  "kernelspec": {
   "display_name": "Python 3 (ipykernel)",
   "language": "python",
   "name": "python3"
  },
  "language_info": {
   "codemirror_mode": {
    "name": "ipython",
    "version": 3
   },
   "file_extension": ".py",
   "mimetype": "text/x-python",
   "name": "python",
   "nbconvert_exporter": "python",
   "pygments_lexer": "ipython3",
   "version": "3.11.4"
  }
 },
 "nbformat": 4,
 "nbformat_minor": 5
}
